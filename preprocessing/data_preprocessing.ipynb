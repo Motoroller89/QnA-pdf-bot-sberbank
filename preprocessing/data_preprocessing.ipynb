{
  "cells": [
    {
      "cell_type": "code",
      "execution_count": null,
      "metadata": {
        "colab": {
          "base_uri": "https://localhost:8080/",
          "height": 1000
        },
        "id": "iQIB5Yx6rKip",
        "outputId": "2513ea5b-c1d4-4341-d762-3cb391a200db"
      },
      "outputs": [],
      "source": [
        "!pip install langchain chromadb openai tiktoken\n",
        "!pip install sentence_transformers\n",
        "!pip install \"unstructured[pdf]\""
      ]
    },
    {
      "cell_type": "code",
      "execution_count": null,
      "metadata": {
        "id": "sr697xL3rdy8"
      },
      "outputs": [],
      "source": [
        "import os\n",
        "import openai\n",
        "\n",
        "os.environ[\"OPENAI_API_KEY\"] = 'your-api-key'\n"
      ]
    },
    {
      "cell_type": "code",
      "execution_count": null,
      "metadata": {
        "colab": {
          "base_uri": "https://localhost:8080/"
        },
        "id": "RwWc6KmWrxJ9",
        "outputId": "fcf74a49-1639-4eeb-a28b-33a37a849f16"
      },
      "outputs": [
        {
          "name": "stderr",
          "output_type": "stream",
          "text": [
            "[nltk_data] Downloading package punkt to /root/nltk_data...\n",
            "[nltk_data]   Unzipping tokenizers/punkt.zip.\n",
            "[nltk_data] Downloading package averaged_perceptron_tagger to\n",
            "[nltk_data]     /root/nltk_data...\n",
            "[nltk_data]   Unzipping taggers/averaged_perceptron_tagger.zip.\n"
          ]
        }
      ],
      "source": [
        "from langchain.document_loaders import UnstructuredPDFLoader\n",
        "from unstructured.cleaners.core import clean_extra_whitespace\n",
        "\n",
        "\n",
        "loader = UnstructuredPDFLoader(\"/content/sber-ar-2022-ru.pdf\",mode='paged', post_processors=[clean_extra_whitespace])\n",
        "data = loader.load()\n"
      ]
    },
    {
      "cell_type": "code",
      "execution_count": null,
      "metadata": {
        "id": "J7Yof6CqtzpO"
      },
      "outputs": [],
      "source": [
        "from langchain.vectorstores.utils import filter_complex_metadata\n",
        "\n",
        "data = filter_complex_metadata(data)\n"
      ]
    },
    {
      "cell_type": "code",
      "execution_count": null,
      "metadata": {
        "id": "bwAdYbs8-8ZK"
      },
      "outputs": [],
      "source": [
        "from langchain.document_loaders import TextLoader\n",
        "from langchain.embeddings import OpenAIEmbeddings\n",
        "from langchain.storage import InMemoryStore\n",
        "from langchain.text_splitter import RecursiveCharacterTextSplitter, CharacterTextSplitter\n",
        "from langchain.vectorstores import Chroma\n",
        "\n",
        "child_splitter = RecursiveCharacterTextSplitter(chunk_size=400)\n",
        "\n",
        "vectorstore = Chroma(\n",
        "    collection_name=\"full_documents\", embedding_function=OpenAIEmbeddings(),persist_directory=\"./vector_store\"\n",
        ")\n",
        "\n"
      ]
    },
    {
      "cell_type": "code",
      "execution_count": null,
      "metadata": {
        "id": "pd7XcqRKc8cu"
      },
      "outputs": [],
      "source": [
        "from langchain.retrievers import ParentDocumentRetriever\n",
        "from langchain.storage._lc_store import create_kv_docstore\n",
        "from langchain.storage import LocalFileStore\n",
        "\n",
        "\n",
        "fs = LocalFileStore(\"./chroma_db_filestore\")\n",
        "store = create_kv_docstore(fs)\n",
        "\n",
        "retriever = ParentDocumentRetriever(\n",
        "    vectorstore=vectorstore,\n",
        "    docstore=store,\n",
        "    child_splitter=child_splitter,\n",
        ")\n",
        "\n",
        "retriever.add_documents(data, ids=None)\n"
      ]
    },
    {
      "cell_type": "code",
      "execution_count": null,
      "metadata": {
        "id": "F8RWZZBbk0-V"
      },
      "outputs": [],
      "source": [
        "#vectorstore.persist()\n",
        "#!zip -r /content/vector_store.zip /content/vector_store"
      ]
    },
    {
      "cell_type": "code",
      "execution_count": null,
      "metadata": {
        "id": "iMLHUEYguASK"
      },
      "outputs": [],
      "source": [
        "eval_dataset = [\n",
        "    {\"question\": \"Какая Чистая прибыль?\", \"page\": 14 },\n",
        "    {\"question\": \"Какая прибыль на акцию?\", \"page\": 14 },\n",
        "    {\"question\": \"Какая доля рынка в автокредитование? \", \"page\": 25 },\n",
        "    {\"question\": \"Количество участников сберСпасибо\", \"page\": 29 },\n",
        "    {\"question\": \"инвнстиционный портфель Сбера?\", \"page\": 44 },\n",
        "    {\"question\": \"Ассистент Салют MAU\", \"page\": 56 },\n",
        "    {\"question\": \"Финансовый эффектр от применения AI\", \"page\": 58 },\n",
        "    {\"question\": \"Сколько людей в коорпоративном управлении сбербанка и в наблюдательном совете?\", \"page\": 89 },\n",
        "    {\"question\": \"Число сотрудников Сбера\", \"page\": 149 },\n",
        "    {\"question\": \"Доля женщин в персонале Сбера\", \"page\": 149 },\n",
        "    {\"question\": \"Чистая прибыль сбера за 2022\", \"page\": 60 },\n",
        "    {\"question\": \"Какие достижения?\", \"page\": 182 },\n",
        "    {\"question\": \"Ключевые результаты Сбербанка за 2022\", \"page\": 222 }\n",
        "]\n",
        "\n",
        "from langchain.retrievers.multi_vector import SearchType\n",
        "\n",
        "retriever.search_type = SearchType.similarity\n",
        "retriever.search_kwargs= {\"k\": 6}\n",
        "\n",
        "def evaluate_rag_system(eval_dataset):\n",
        "    total_questions = len(eval_dataset)\n",
        "    correct_answers = 0\n",
        "    for question_data in eval_dataset:\n",
        "        question = question_data[\"question\"]\n",
        "        page_number = question_data['page']\n",
        "        # Предполагается, что rag_system - это функция, которая возвращает ответ и принимает вопрос и номер страницы\n",
        "        ans = retriever.get_relevant_documents(question)\n",
        "        # Сравнение ответа с ожидаемым\n",
        "        for i in ans:\n",
        "          if i.metadata['page_number'] == page_number:\n",
        "            correct_answers += 1\n",
        "            break\n",
        "        # Вывод результата для текущего вопроса\n",
        "        print(f\"Вопрос: {question_data}\")\n",
        "        print(f\"Полученный ответ: {correct_answers}\")\n",
        "    # Общая точность\n",
        "    accuracy = (correct_answers / total_questions) * 100\n",
        "    print(f\"Общая точность: {accuracy}%\")"
      ]
    },
    {
      "cell_type": "code",
      "execution_count": null,
      "metadata": {
        "id": "MD9DiMuVuN91"
      },
      "outputs": [],
      "source": [
        "evaluate_rag_system(eval_dataset)\n"
      ]
    }
  ],
  "metadata": {
    "colab": {
      "provenance": []
    },
    "kernelspec": {
      "display_name": "Python 3",
      "name": "python3"
    },
    "language_info": {
      "name": "python"
    }
  },
  "nbformat": 4,
  "nbformat_minor": 0
}
